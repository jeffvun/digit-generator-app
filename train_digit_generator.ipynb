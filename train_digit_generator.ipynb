{
  "nbformat": 4,
  "nbformat_minor": 0,
  "metadata": {
    "colab": {
      "provenance": [],
      "gpuType": "T4",
      "authorship_tag": "ABX9TyOOXHfoxCGuaekdzfT5ulg6",
      "include_colab_link": true
    },
    "kernelspec": {
      "name": "python3",
      "display_name": "Python 3"
    },
    "language_info": {
      "name": "python"
    },
    "accelerator": "GPU"
  },
  "cells": [
    {
      "cell_type": "markdown",
      "metadata": {
        "id": "view-in-github",
        "colab_type": "text"
      },
      "source": [
        "<a href=\"https://colab.research.google.com/github/jeffvun/digit-generator-app/blob/main/train_digit_generator.ipynb\" target=\"_parent\"><img src=\"https://colab.research.google.com/assets/colab-badge.svg\" alt=\"Open In Colab\"/></a>"
      ]
    },
    {
      "cell_type": "code",
      "execution_count": 1,
      "metadata": {
        "id": "w0I-w9nTIXjn"
      },
      "outputs": [],
      "source": [
        "# !pip install torch torchvision matplotlib\n",
        "\n",
        "import torch\n",
        "import torch.nn as nn\n",
        "from torchvision import datasets, transforms\n",
        "from torch.utils.data import DataLoader\n",
        "import matplotlib.pyplot as plt\n",
        "import numpy as np\n",
        "import os\n"
      ]
    },
    {
      "cell_type": "code",
      "source": [
        "# Setup\n",
        "device = torch.device(\"cuda\" if torch.cuda.is_available() else \"cpu\")\n",
        "latent_dim = 100\n",
        "num_classes = 10\n",
        "image_shape = (1, 28, 28)\n",
        "img_size = 28\n",
        "\n",
        "# Dataset\n",
        "transform = transforms.Compose([\n",
        "    transforms.ToTensor(),\n",
        "    transforms.Normalize([0.5], [0.5])\n",
        "])\n",
        "\n",
        "train_loader = DataLoader(\n",
        "    datasets.MNIST(root='./data', train=True, download=True, transform=transform),\n",
        "    batch_size=128, shuffle=True\n",
        ")"
      ],
      "metadata": {
        "colab": {
          "base_uri": "https://localhost:8080/"
        },
        "id": "j749hDU3IiWJ",
        "outputId": "0fdfb30b-bb6c-4a72-9af2-284de2b71eb4"
      },
      "execution_count": 2,
      "outputs": [
        {
          "output_type": "stream",
          "name": "stderr",
          "text": [
            "100%|██████████| 9.91M/9.91M [00:00<00:00, 12.7MB/s]\n",
            "100%|██████████| 28.9k/28.9k [00:00<00:00, 337kB/s]\n",
            "100%|██████████| 1.65M/1.65M [00:00<00:00, 2.69MB/s]\n",
            "100%|██████████| 4.54k/4.54k [00:00<00:00, 8.33MB/s]\n"
          ]
        }
      ]
    },
    {
      "cell_type": "code",
      "source": [
        "# Generator\n",
        "class Generator(nn.Module):\n",
        "    def __init__(self):\n",
        "        super().__init__()\n",
        "        self.label_emb = nn.Embedding(num_classes, num_classes)\n",
        "        self.model = nn.Sequential(\n",
        "            nn.Linear(latent_dim + num_classes, 128),\n",
        "            nn.LeakyReLU(0.2, inplace=True),\n",
        "            nn.Linear(128, 256),\n",
        "            nn.BatchNorm1d(256),\n",
        "            nn.LeakyReLU(0.2, inplace=True),\n",
        "            nn.Linear(256, 512),\n",
        "            nn.BatchNorm1d(512),\n",
        "            nn.LeakyReLU(0.2, inplace=True),\n",
        "            nn.Linear(512, int(np.prod(image_shape))),\n",
        "            nn.Tanh()\n",
        "        )\n",
        "\n",
        "    def forward(self, z, labels):\n",
        "        c = self.label_emb(labels)\n",
        "        x = torch.cat([z, c], dim=1)\n",
        "        out = self.model(x)\n",
        "        return out.view(out.size(0), *image_shape)\n"
      ],
      "metadata": {
        "id": "F776hMpnIrdg"
      },
      "execution_count": 3,
      "outputs": []
    },
    {
      "cell_type": "code",
      "source": [
        "\n",
        "# Discriminator\n",
        "class Discriminator(nn.Module):\n",
        "    def __init__(self):\n",
        "        super().__init__()\n",
        "        self.label_emb = nn.Embedding(num_classes, num_classes)\n",
        "        self.model = nn.Sequential(\n",
        "            nn.Linear(num_classes + int(np.prod(image_shape)), 512),\n",
        "            nn.LeakyReLU(0.2, inplace=True),\n",
        "            nn.Linear(512, 256),\n",
        "            nn.LeakyReLU(0.2, inplace=True),\n",
        "            nn.Linear(256, 1),\n",
        "            nn.Sigmoid()\n",
        "        )\n",
        "\n",
        "    def forward(self, img, labels):\n",
        "        c = self.label_emb(labels)\n",
        "        x = torch.cat([img.view(img.size(0), -1), c], dim=1)\n",
        "        return self.model(x)\n",
        "\n"
      ],
      "metadata": {
        "id": "biaAP4nnIw9S"
      },
      "execution_count": 4,
      "outputs": []
    },
    {
      "cell_type": "code",
      "source": [
        "# Initialize\n",
        "G = Generator().to(device)\n",
        "D = Discriminator().to(device)\n",
        "\n",
        "adversarial_loss = nn.BCELoss()\n",
        "optimizer_G = torch.optim.Adam(G.parameters(), lr=0.0002)\n",
        "optimizer_D = torch.optim.Adam(D.parameters(), lr=0.0002)\n"
      ],
      "metadata": {
        "id": "VKe36YY4I30n"
      },
      "execution_count": 5,
      "outputs": []
    },
    {
      "cell_type": "code",
      "source": [
        "\n",
        "# Training loop (light version for demo – increase epochs if needed)\n",
        "epochs = 10\n",
        "for epoch in range(epochs):\n",
        "    for imgs, labels in train_loader:\n",
        "        batch_size = imgs.size(0)\n",
        "        valid = torch.ones(batch_size, 1).to(device)\n",
        "        fake = torch.zeros(batch_size, 1).to(device)\n",
        "        real_imgs = imgs.to(device)\n",
        "        labels = labels.to(device)\n",
        "\n",
        "        # Train Generator\n",
        "        z = torch.randn(batch_size, latent_dim).to(device)\n",
        "        gen_labels = torch.randint(0, num_classes, (batch_size,), device=device)\n",
        "        gen_imgs = G(z, gen_labels)\n",
        "        g_loss = adversarial_loss(D(gen_imgs, gen_labels), valid)\n",
        "\n",
        "        optimizer_G.zero_grad()\n",
        "        g_loss.backward()\n",
        "        optimizer_G.step()\n",
        "\n",
        "        # Train Discriminator\n",
        "        real_loss = adversarial_loss(D(real_imgs, labels), valid)\n",
        "        fake_loss = adversarial_loss(D(gen_imgs.detach(), gen_labels), fake)\n",
        "        d_loss = (real_loss + fake_loss) / 2\n",
        "\n",
        "        optimizer_D.zero_grad()\n",
        "        d_loss.backward()\n",
        "        optimizer_D.step()\n",
        "\n",
        "    print(f\"Epoch {epoch+1}/{epochs} | D loss: {d_loss.item():.4f} | G loss: {g_loss.item():.4f}\")\n"
      ],
      "metadata": {
        "colab": {
          "base_uri": "https://localhost:8080/"
        },
        "id": "DiVwWZw9I8lu",
        "outputId": "ed546bbe-0dba-491f-ed18-573343b8684e"
      },
      "execution_count": 6,
      "outputs": [
        {
          "output_type": "stream",
          "name": "stdout",
          "text": [
            "Epoch 1/10 | D loss: 0.0485 | G loss: 5.4930\n",
            "Epoch 2/10 | D loss: 0.2127 | G loss: 2.4785\n",
            "Epoch 3/10 | D loss: 0.0642 | G loss: 7.0778\n",
            "Epoch 4/10 | D loss: 0.1115 | G loss: 7.4612\n",
            "Epoch 5/10 | D loss: 0.1059 | G loss: 4.1566\n",
            "Epoch 6/10 | D loss: 0.0777 | G loss: 7.8390\n",
            "Epoch 7/10 | D loss: 0.0356 | G loss: 3.7385\n",
            "Epoch 8/10 | D loss: 0.1385 | G loss: 3.0959\n",
            "Epoch 9/10 | D loss: 0.1613 | G loss: 4.4026\n",
            "Epoch 10/10 | D loss: 0.1846 | G loss: 5.3350\n"
          ]
        }
      ]
    },
    {
      "cell_type": "code",
      "source": [
        "\n",
        "# Save Generator\n",
        "os.makedirs(\"models\", exist_ok=True)\n",
        "torch.save(G.state_dict(), \"models/cgan_generator.pt\")"
      ],
      "metadata": {
        "id": "VS3jum-dI_c5"
      },
      "execution_count": 7,
      "outputs": []
    }
  ]
}